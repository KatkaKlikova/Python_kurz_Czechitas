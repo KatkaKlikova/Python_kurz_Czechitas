{
 "cells": [
  {
   "cell_type": "markdown",
   "metadata": {},
   "source": [
    "Stáhni si dataset, který obsahuje seznam zvířat k adopci v ZOO Praha. Zdroj dat je Národní katalog otevřených dat."
   ]
  },
  {
   "cell_type": "code",
   "execution_count": 2,
   "metadata": {},
   "outputs": [],
   "source": [
    "import pandas"
   ]
  },
  {
   "cell_type": "markdown",
   "metadata": {},
   "source": [
    "Data si načti pomocí metody pandas.read_csv(). Pozor, nastav oddělovač na znak středníku. Využij parametr sep."
   ]
  },
  {
   "cell_type": "code",
   "execution_count": 3,
   "metadata": {},
   "outputs": [
    {
     "name": "stdout",
     "output_type": "stream",
     "text": [
      "       id             nazev_cz                     nazev_en       trida_cz  \\\n",
      "0       7          Šváb syčivý  Madagascar giant cockroach      Bezobratlí   \n",
      "1       8  Pakobylka okřídlená     Pink-winged stick insect     Bezobratlí   \n",
      "2      16                Tayra                        Tayra          Savci   \n",
      "3      35        Kajmanka supí    Alligator snapping turtle          Plazi   \n",
      "4      37      Želva žlutočelá       Indochinese box turtle          Plazi   \n",
      "..    ...                  ...                          ...            ...   \n",
      "508  1417  Rosnice šalamounská                               Obojživelníci   \n",
      "509  1418       Létavka obecná                               Obojživelníci   \n",
      "510  1419          Bažant paví                                       Ptáci   \n",
      "511  1420  Sojkovec rezavouchý                                       Ptáci   \n",
      "512  1421   Kachnice kaštanová                                       Ptáci   \n",
      "\n",
      "     cena  k_prohlidce  \n",
      "0    1000            1  \n",
      "1    1000            1  \n",
      "2    5000            1  \n",
      "3    2000            1  \n",
      "4    1000            1  \n",
      "..    ...          ...  \n",
      "508  1000            1  \n",
      "509  1000            1  \n",
      "510  1000            1  \n",
      "511  1000            1  \n",
      "512  1000            1  \n",
      "\n",
      "[513 rows x 6 columns]\n"
     ]
    }
   ],
   "source": [
    "adopce = pandas.read_csv('adopce-zvirat.csv', sep =';')\n",
    "print(adopce)"
   ]
  },
  {
   "cell_type": "markdown",
   "metadata": {},
   "source": [
    "\n",
    "Seznam se s daty. Kolik má tabulka řádek a sloupců?"
   ]
  },
  {
   "cell_type": "code",
   "execution_count": 4,
   "metadata": {},
   "outputs": [
    {
     "name": "stdout",
     "output_type": "stream",
     "text": [
      "<class 'pandas.core.frame.DataFrame'>\n",
      "RangeIndex: 513 entries, 0 to 512\n",
      "Data columns (total 6 columns):\n",
      " #   Column       Non-Null Count  Dtype \n",
      "---  ------       --------------  ----- \n",
      " 0   id           513 non-null    int64 \n",
      " 1   nazev_cz     513 non-null    object\n",
      " 2   nazev_en     513 non-null    object\n",
      " 3   trida_cz     513 non-null    object\n",
      " 4   cena         513 non-null    int64 \n",
      " 5   k_prohlidce  513 non-null    int64 \n",
      "dtypes: int64(3), object(3)\n",
      "memory usage: 24.2+ KB\n"
     ]
    }
   ],
   "source": [
    "adopce.info()"
   ]
  },
  {
   "cell_type": "markdown",
   "metadata": {},
   "source": [
    " Jak se sloupce jmenují?"
   ]
  },
  {
   "cell_type": "code",
   "execution_count": 5,
   "metadata": {},
   "outputs": [
    {
     "name": "stdout",
     "output_type": "stream",
     "text": [
      "Index(['id', 'nazev_cz', 'nazev_en', 'trida_cz', 'cena', 'k_prohlidce'], dtype='object')\n"
     ]
    }
   ],
   "source": [
    "print(adopce.columns)"
   ]
  },
  {
   "cell_type": "markdown",
   "metadata": {},
   "source": [
    "Které zvíře se nachází na záznamu s indexem 34? Vypiš název tohoto zvířete v češtině a v angličtině."
   ]
  },
  {
   "cell_type": "code",
   "execution_count": 6,
   "metadata": {},
   "outputs": [
    {
     "name": "stdout",
     "output_type": "stream",
     "text": [
      "nazev_cz     Ibis bílý\n",
      "nazev_en    White ibis\n",
      "Name: 34, dtype: object\n"
     ]
    }
   ],
   "source": [
    "print(adopce[[\"nazev_cz\", \"nazev_en\"]].iloc[34])"
   ]
  },
  {
   "cell_type": "markdown",
   "metadata": {},
   "source": [
    "Využij metody sort_values() (a libovolných dalších metod), ke zjištění následujících informací:\n",
    "Adopce kterých zvířat je nejdražší?"
   ]
  },
  {
   "cell_type": "code",
   "execution_count": 12,
   "metadata": {},
   "outputs": [
    {
     "name": "stdout",
     "output_type": "stream",
     "text": [
      "      id           nazev_cz        nazev_en trida_cz   cena  k_prohlidce\n",
      "114  335    Tygr sumaterský  Sumatran tiger    Savci  50000            1\n",
      "113  334    Tygr ussurijský  Siberian tiger    Savci  50000            1\n",
      "272  897      Tygr malajský   Malayan tiger    Savci  50000            1\n",
      "129  385  Hroch obojživelný    Hippopotamus    Savci  50000            1\n",
      "128  381       Slon indický  Asian elephant    Savci  50000            1\n"
     ]
    }
   ],
   "source": [
    "print(adopce.sort_values(by='cena', ascending=False).head())"
   ]
  },
  {
   "cell_type": "markdown",
   "metadata": {},
   "source": [
    "Které zvíře je alfabeticky poslední v češtině?"
   ]
  },
  {
   "cell_type": "code",
   "execution_count": 10,
   "metadata": {},
   "outputs": [
    {
     "name": "stdout",
     "output_type": "stream",
     "text": [
      "       id                                   nazev_cz                 nazev_en  \\\n",
      "371  1190                                Žluva hajní   Eurasian golden oriole   \n",
      "321  1069                                Žluna větší       Greater yellownape   \n",
      "135   396  Žirafa severní núbijská (= Rothschildova)   Rothschild's giraffe     \n",
      "4      37                            Želva žlutočelá   Indochinese box turtle   \n",
      "211   673                              Želva černavá  Giant Asian pond turtle   \n",
      "\n",
      "    trida_cz   cena  k_prohlidce  \n",
      "371    Ptáci   1000            1  \n",
      "321    Ptáci   1500            1  \n",
      "135    Savci  50000            1  \n",
      "4      Plazi   1000            1  \n",
      "211    Plazi   2000            1  \n"
     ]
    }
   ],
   "source": [
    "print(adopce.sort_values(by='nazev_cz', ascending=False).head())\n"
   ]
  },
  {
   "cell_type": "markdown",
   "metadata": {},
   "source": [
    "Které v angličtině?"
   ]
  },
  {
   "cell_type": "code",
   "execution_count": 14,
   "metadata": {},
   "outputs": [
    {
     "name": "stdout",
     "output_type": "stream",
     "text": [
      "Yellow-necked francolin\n"
     ]
    }
   ],
   "source": [
    "print(adopce[\"nazev_en\"].sort_values(ascending=False).iloc[0])"
   ]
  }
 ],
 "metadata": {
  "kernelspec": {
   "display_name": "Python 3",
   "language": "python",
   "name": "python3"
  },
  "language_info": {
   "codemirror_mode": {
    "name": "ipython",
    "version": 3
   },
   "file_extension": ".py",
   "mimetype": "text/x-python",
   "name": "python",
   "nbconvert_exporter": "python",
   "pygments_lexer": "ipython3",
   "version": "3.10.8"
  }
 },
 "nbformat": 4,
 "nbformat_minor": 2
}
